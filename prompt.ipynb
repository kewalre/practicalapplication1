{
  "cells": [
    {
      "cell_type": "markdown",
      "metadata": {
        "id": "CcUT6Fon_qRE"
      },
      "source": [
        "### Required Assignment 5.1: Will the Customer Accept the Coupon?\n",
        "\n",
        "**Context**\n",
        "\n",
        "Imagine driving through town and a coupon is delivered to your cell phone for a restaurant near where you are driving. Would you accept that coupon and take a short detour to the restaurant? Would you accept the coupon but use it on a subsequent trip? Would you ignore the coupon entirely? What if the coupon was for a bar instead of a restaurant? What about a coffee house? Would you accept a bar coupon with a minor passenger in the car? What about if it was just you and your partner in the car? Would weather impact the rate of acceptance? What about the time of day?\n",
        "\n",
        "Obviously, proximity to the business is a factor on whether the coupon is delivered to the driver or not, but what are the factors that determine whether a driver accepts the coupon once it is delivered to them? How would you determine whether a driver is likely to accept a coupon?\n",
        "\n",
        "**Overview**\n",
        "\n",
        "The goal of this project is to use what you know about visualizations and probability distributions to distinguish between customers who accepted a driving coupon versus those that did not.\n",
        "\n",
        "**Data**\n",
        "\n",
        "This data comes to us from the UCI Machine Learning repository and was collected via a survey on Amazon Mechanical Turk. The survey describes different driving scenarios including the destination, current time, weather, passenger, etc., and then ask the person whether he will accept the coupon if he is the driver. Answers that the user will drive there ‘right away’ or ‘later before the coupon expires’ are labeled as ‘Y = 1’ and answers ‘no, I do not want the coupon’ are labeled as ‘Y = 0’.  There are five different types of coupons -- less expensive restaurants (under \\$20), coffee houses, carry out & take away, bar, and more expensive restaurants (\\$20 - $50)."
      ]
    },
    {
      "cell_type": "markdown",
      "metadata": {
        "id": "1wORvMBJ_qRF"
      },
      "source": [
        "**Deliverables**\n",
        "\n",
        "Your final product should be a brief report that highlights the differences between customers who did and did not accept the coupons.  To explore the data you will utilize your knowledge of plotting, statistical summaries, and visualization using Python. You will publish your findings in a public facing github repository as your first portfolio piece.\n",
        "\n",
        "\n",
        "\n"
      ]
    },
    {
      "cell_type": "markdown",
      "metadata": {
        "id": "pG6_Ym6q_qRG"
      },
      "source": [
        "### Data Description\n",
        "Keep in mind that these values mentioned below are average values.\n",
        "\n",
        "The attributes of this data set include:\n",
        "1. User attributes\n",
        "    -  Gender: male, female\n",
        "    -  Age: below 21, 21 to 25, 26 to 30, etc.\n",
        "    -  Marital Status: single, married partner, unmarried partner, or widowed\n",
        "    -  Number of children: 0, 1, or more than 1\n",
        "    -  Education: high school, bachelors degree, associates degree, or graduate degree\n",
        "    -  Occupation: architecture & engineering, business & financial, etc.\n",
        "    -  Annual income: less than \\\\$12500, \\\\$12500 - \\\\$24999, \\\\$25000 - \\\\$37499, etc.\n",
        "    -  Number of times that he/she goes to a bar: 0, less than 1, 1 to 3, 4 to 8 or greater than 8\n",
        "    -  Number of times that he/she buys takeaway food: 0, less than 1, 1 to 3, 4 to 8 or greater\n",
        "    than 8\n",
        "    -  Number of times that he/she goes to a coffee house: 0, less than 1, 1 to 3, 4 to 8 or\n",
        "    greater than 8\n",
        "    -  Number of times that he/she eats at a restaurant with average expense less than \\\\$20 per\n",
        "    person: 0, less than 1, 1 to 3, 4 to 8 or greater than 8\n",
        "    -  Number of times that he/she goes to a bar: 0, less than 1, 1 to 3, 4 to 8 or greater than 8\n",
        "    \n",
        "\n",
        "2. Contextual attributes\n",
        "    - Driving destination: home, work, or no urgent destination\n",
        "    - Location of user, coupon and destination: we provide a map to show the geographical\n",
        "    location of the user, destination, and the venue, and we mark the distance between each\n",
        "    two places with time of driving. The user can see whether the venue is in the same\n",
        "    direction as the destination.\n",
        "    - Weather: sunny, rainy, or snowy\n",
        "    - Temperature: 30F, 55F, or 80F\n",
        "    - Time: 10AM, 2PM, or 6PM\n",
        "    - Passenger: alone, partner, kid(s), or friend(s)\n",
        "\n",
        "\n",
        "3. Coupon attributes\n",
        "    - time before it expires: 2 hours or one day"
      ]
    },
    {
      "cell_type": "code",
      "execution_count": 450,
      "metadata": {
        "id": "dzNoP3o__qRG"
      },
      "outputs": [],
      "source": [
        "import matplotlib.pyplot as plt\n",
        "import seaborn as sns\n",
        "import pandas as pd\n",
        "import numpy as np"
      ]
    },
    {
      "cell_type": "markdown",
      "metadata": {
        "id": "Ct8pI1uE_qRG"
      },
      "source": [
        "### Problems\n",
        "\n",
        "Use the prompts below to get started with your data analysis.  \n",
        "\n",
        "1. Read in the `coupons.csv` file.\n",
        "\n",
        "\n"
      ]
    },
    {
      "cell_type": "code",
      "execution_count": 451,
      "metadata": {
        "id": "X0vbffYg_qRH"
      },
      "outputs": [],
      "source": [
        "data = pd.read_csv('data/coupons.csv')"
      ]
    },
    {
      "cell_type": "code",
      "execution_count": 452,
      "metadata": {
        "id": "TXofQ_DF_qRH",
        "outputId": "2fc96a2c-1112-4b54-f24f-dbb9bc88abfb"
      },
      "outputs": [
        {
          "data": {
            "text/html": [
              "<div>\n",
              "<style scoped>\n",
              "    .dataframe tbody tr th:only-of-type {\n",
              "        vertical-align: middle;\n",
              "    }\n",
              "\n",
              "    .dataframe tbody tr th {\n",
              "        vertical-align: top;\n",
              "    }\n",
              "\n",
              "    .dataframe thead th {\n",
              "        text-align: right;\n",
              "    }\n",
              "</style>\n",
              "<table border=\"1\" class=\"dataframe\">\n",
              "  <thead>\n",
              "    <tr style=\"text-align: right;\">\n",
              "      <th></th>\n",
              "      <th>destination</th>\n",
              "      <th>passanger</th>\n",
              "      <th>weather</th>\n",
              "      <th>temperature</th>\n",
              "      <th>time</th>\n",
              "      <th>coupon</th>\n",
              "      <th>expiration</th>\n",
              "      <th>gender</th>\n",
              "      <th>age</th>\n",
              "      <th>maritalStatus</th>\n",
              "      <th>...</th>\n",
              "      <th>CoffeeHouse</th>\n",
              "      <th>CarryAway</th>\n",
              "      <th>RestaurantLessThan20</th>\n",
              "      <th>Restaurant20To50</th>\n",
              "      <th>toCoupon_GEQ5min</th>\n",
              "      <th>toCoupon_GEQ15min</th>\n",
              "      <th>toCoupon_GEQ25min</th>\n",
              "      <th>direction_same</th>\n",
              "      <th>direction_opp</th>\n",
              "      <th>Y</th>\n",
              "    </tr>\n",
              "  </thead>\n",
              "  <tbody>\n",
              "    <tr>\n",
              "      <th>0</th>\n",
              "      <td>No Urgent Place</td>\n",
              "      <td>Alone</td>\n",
              "      <td>Sunny</td>\n",
              "      <td>55</td>\n",
              "      <td>2PM</td>\n",
              "      <td>Restaurant(&lt;20)</td>\n",
              "      <td>1d</td>\n",
              "      <td>Female</td>\n",
              "      <td>21</td>\n",
              "      <td>Unmarried partner</td>\n",
              "      <td>...</td>\n",
              "      <td>never</td>\n",
              "      <td>NaN</td>\n",
              "      <td>4~8</td>\n",
              "      <td>1~3</td>\n",
              "      <td>1</td>\n",
              "      <td>0</td>\n",
              "      <td>0</td>\n",
              "      <td>0</td>\n",
              "      <td>1</td>\n",
              "      <td>1</td>\n",
              "    </tr>\n",
              "    <tr>\n",
              "      <th>1</th>\n",
              "      <td>No Urgent Place</td>\n",
              "      <td>Friend(s)</td>\n",
              "      <td>Sunny</td>\n",
              "      <td>80</td>\n",
              "      <td>10AM</td>\n",
              "      <td>Coffee House</td>\n",
              "      <td>2h</td>\n",
              "      <td>Female</td>\n",
              "      <td>21</td>\n",
              "      <td>Unmarried partner</td>\n",
              "      <td>...</td>\n",
              "      <td>never</td>\n",
              "      <td>NaN</td>\n",
              "      <td>4~8</td>\n",
              "      <td>1~3</td>\n",
              "      <td>1</td>\n",
              "      <td>0</td>\n",
              "      <td>0</td>\n",
              "      <td>0</td>\n",
              "      <td>1</td>\n",
              "      <td>0</td>\n",
              "    </tr>\n",
              "    <tr>\n",
              "      <th>2</th>\n",
              "      <td>No Urgent Place</td>\n",
              "      <td>Friend(s)</td>\n",
              "      <td>Sunny</td>\n",
              "      <td>80</td>\n",
              "      <td>10AM</td>\n",
              "      <td>Carry out &amp; Take away</td>\n",
              "      <td>2h</td>\n",
              "      <td>Female</td>\n",
              "      <td>21</td>\n",
              "      <td>Unmarried partner</td>\n",
              "      <td>...</td>\n",
              "      <td>never</td>\n",
              "      <td>NaN</td>\n",
              "      <td>4~8</td>\n",
              "      <td>1~3</td>\n",
              "      <td>1</td>\n",
              "      <td>1</td>\n",
              "      <td>0</td>\n",
              "      <td>0</td>\n",
              "      <td>1</td>\n",
              "      <td>1</td>\n",
              "    </tr>\n",
              "    <tr>\n",
              "      <th>3</th>\n",
              "      <td>No Urgent Place</td>\n",
              "      <td>Friend(s)</td>\n",
              "      <td>Sunny</td>\n",
              "      <td>80</td>\n",
              "      <td>2PM</td>\n",
              "      <td>Coffee House</td>\n",
              "      <td>2h</td>\n",
              "      <td>Female</td>\n",
              "      <td>21</td>\n",
              "      <td>Unmarried partner</td>\n",
              "      <td>...</td>\n",
              "      <td>never</td>\n",
              "      <td>NaN</td>\n",
              "      <td>4~8</td>\n",
              "      <td>1~3</td>\n",
              "      <td>1</td>\n",
              "      <td>1</td>\n",
              "      <td>0</td>\n",
              "      <td>0</td>\n",
              "      <td>1</td>\n",
              "      <td>0</td>\n",
              "    </tr>\n",
              "    <tr>\n",
              "      <th>4</th>\n",
              "      <td>No Urgent Place</td>\n",
              "      <td>Friend(s)</td>\n",
              "      <td>Sunny</td>\n",
              "      <td>80</td>\n",
              "      <td>2PM</td>\n",
              "      <td>Coffee House</td>\n",
              "      <td>1d</td>\n",
              "      <td>Female</td>\n",
              "      <td>21</td>\n",
              "      <td>Unmarried partner</td>\n",
              "      <td>...</td>\n",
              "      <td>never</td>\n",
              "      <td>NaN</td>\n",
              "      <td>4~8</td>\n",
              "      <td>1~3</td>\n",
              "      <td>1</td>\n",
              "      <td>1</td>\n",
              "      <td>0</td>\n",
              "      <td>0</td>\n",
              "      <td>1</td>\n",
              "      <td>0</td>\n",
              "    </tr>\n",
              "  </tbody>\n",
              "</table>\n",
              "<p>5 rows × 26 columns</p>\n",
              "</div>"
            ],
            "text/plain": [
              "       destination  passanger weather  temperature  time  \\\n",
              "0  No Urgent Place      Alone   Sunny           55   2PM   \n",
              "1  No Urgent Place  Friend(s)   Sunny           80  10AM   \n",
              "2  No Urgent Place  Friend(s)   Sunny           80  10AM   \n",
              "3  No Urgent Place  Friend(s)   Sunny           80   2PM   \n",
              "4  No Urgent Place  Friend(s)   Sunny           80   2PM   \n",
              "\n",
              "                  coupon expiration  gender age      maritalStatus  ...  \\\n",
              "0        Restaurant(<20)         1d  Female  21  Unmarried partner  ...   \n",
              "1           Coffee House         2h  Female  21  Unmarried partner  ...   \n",
              "2  Carry out & Take away         2h  Female  21  Unmarried partner  ...   \n",
              "3           Coffee House         2h  Female  21  Unmarried partner  ...   \n",
              "4           Coffee House         1d  Female  21  Unmarried partner  ...   \n",
              "\n",
              "   CoffeeHouse CarryAway RestaurantLessThan20 Restaurant20To50  \\\n",
              "0        never       NaN                  4~8              1~3   \n",
              "1        never       NaN                  4~8              1~3   \n",
              "2        never       NaN                  4~8              1~3   \n",
              "3        never       NaN                  4~8              1~3   \n",
              "4        never       NaN                  4~8              1~3   \n",
              "\n",
              "  toCoupon_GEQ5min toCoupon_GEQ15min toCoupon_GEQ25min direction_same  \\\n",
              "0                1                 0                 0              0   \n",
              "1                1                 0                 0              0   \n",
              "2                1                 1                 0              0   \n",
              "3                1                 1                 0              0   \n",
              "4                1                 1                 0              0   \n",
              "\n",
              "  direction_opp  Y  \n",
              "0             1  1  \n",
              "1             1  0  \n",
              "2             1  1  \n",
              "3             1  0  \n",
              "4             1  0  \n",
              "\n",
              "[5 rows x 26 columns]"
            ]
          },
          "execution_count": 452,
          "metadata": {},
          "output_type": "execute_result"
        }
      ],
      "source": [
        "data.head()"
      ]
    },
    {
      "cell_type": "code",
      "execution_count": 453,
      "metadata": {},
      "outputs": [
        {
          "name": "stdout",
          "output_type": "stream",
          "text": [
            "object\n"
          ]
        }
      ],
      "source": [
        "print(data['RestaurantLessThan20'].dtype)"
      ]
    },
    {
      "cell_type": "markdown",
      "metadata": {
        "id": "GcDs78ZH_qRH"
      },
      "source": [
        "2. Investigate the dataset for missing or problematic data."
      ]
    },
    {
      "cell_type": "code",
      "execution_count": 454,
      "metadata": {
        "id": "6CwL6oWj_qRH"
      },
      "outputs": [
        {
          "name": "stdout",
          "output_type": "stream",
          "text": [
            "Missing values per column:\n",
            " destination                 0\n",
            "passanger                   0\n",
            "weather                     0\n",
            "temperature                 0\n",
            "time                        0\n",
            "coupon                      0\n",
            "expiration                  0\n",
            "gender                      0\n",
            "age                         0\n",
            "maritalStatus               0\n",
            "has_children                0\n",
            "education                   0\n",
            "occupation                  0\n",
            "income                      0\n",
            "car                     12576\n",
            "Bar                       107\n",
            "CoffeeHouse               217\n",
            "CarryAway                 151\n",
            "RestaurantLessThan20      130\n",
            "Restaurant20To50          189\n",
            "toCoupon_GEQ5min            0\n",
            "toCoupon_GEQ15min           0\n",
            "toCoupon_GEQ25min           0\n",
            "direction_same              0\n",
            "direction_opp               0\n",
            "Y                           0\n",
            "dtype: int64\n"
          ]
        }
      ],
      "source": [
        "# Find missing values in all columns\n",
        "missing_values = data.isnull().sum()\n",
        "print(\"Missing values per column:\\n\", missing_values)\n"
      ]
    },
    {
      "cell_type": "markdown",
      "metadata": {
        "id": "bSdVSpYB_qRH"
      },
      "source": [
        "3. Decide what to do about your missing data -- drop, replace, other..."
      ]
    },
    {
      "cell_type": "code",
      "execution_count": 455,
      "metadata": {
        "id": "tyvoAC5F_qRI"
      },
      "outputs": [
        {
          "name": "stdout",
          "output_type": "stream",
          "text": [
            "Missing values per column:\n",
            " destination             0\n",
            "passanger               0\n",
            "weather                 0\n",
            "temperature             0\n",
            "time                    0\n",
            "coupon                  0\n",
            "expiration              0\n",
            "gender                  0\n",
            "age                     0\n",
            "maritalStatus           0\n",
            "has_children            0\n",
            "education               0\n",
            "occupation              0\n",
            "income                  0\n",
            "car                     0\n",
            "Bar                     0\n",
            "CoffeeHouse             0\n",
            "CarryAway               0\n",
            "RestaurantLessThan20    0\n",
            "Restaurant20To50        0\n",
            "toCoupon_GEQ5min        0\n",
            "toCoupon_GEQ15min       0\n",
            "toCoupon_GEQ25min       0\n",
            "direction_same          0\n",
            "direction_opp           0\n",
            "Y                       0\n",
            "dtype: int64\n",
            "0        4~8\n",
            "1        4~8\n",
            "2        4~8\n",
            "3        4~8\n",
            "4        4~8\n",
            "        ... \n",
            "12679    4~8\n",
            "12680    4~8\n",
            "12681    4~8\n",
            "12682    4~8\n",
            "12683    4~8\n",
            "Name: RestaurantLessThan20, Length: 12684, dtype: object\n"
          ]
        }
      ],
      "source": [
        "data['car'] = data['car'].fillna('Unknown')\n",
        "data['CoffeeHouse'] = data['CoffeeHouse'].fillna('Unknown')\n",
        "data['CarryAway'] = data['CarryAway'].fillna('Unknown')\n",
        "data['RestaurantLessThan20'] = data['RestaurantLessThan20'].fillna('Unknown')\n",
        "data['Restaurant20To50'] = data['Restaurant20To50'].fillna('Unknown')\n",
        "data['Bar'] = data['Bar'].fillna('Unknown')\n",
        "\n",
        "# check all missing values have been replaced with 'Unknown'\n",
        "missing_values = data.isnull().sum()\n",
        "print(\"Missing values per column:\\n\", missing_values)\n",
        "\n",
        "# convert restaurant less than 20 column to string to generate proportion\n",
        "data['RestaurantLessThan20'] = data['RestaurantLessThan20'].astype(str)\n",
        "print(data['RestaurantLessThan20'])\n",
        "\n",
        "\n"
      ]
    },
    {
      "cell_type": "markdown",
      "metadata": {
        "id": "YE6oJbXd_qRI"
      },
      "source": [
        "4. What proportion of the total observations chose to accept the coupon?\n",
        "\n"
      ]
    },
    {
      "cell_type": "code",
      "execution_count": 456,
      "metadata": {
        "id": "86GGqBTv_qRI"
      },
      "outputs": [
        {
          "name": "stdout",
          "output_type": "stream",
          "text": [
            "7210 12684 0.5684326710816777\n"
          ]
        }
      ],
      "source": [
        "Coupon_accept = data['Y'].sum()\n",
        "proportion = Coupon_accept / len(data)\n",
        "print(Coupon_accept, len(data), proportion)\n",
        "\n",
        "\n"
      ]
    },
    {
      "cell_type": "markdown",
      "metadata": {
        "id": "vflz0DoE_qRI"
      },
      "source": [
        "5. Use a bar plot to visualize the `coupon` column."
      ]
    },
    {
      "cell_type": "code",
      "execution_count": 457,
      "metadata": {
        "id": "dHFh3E45_qRI"
      },
      "outputs": [
        {
          "data": {
            "image/png": "[encoded data removed]",
            "text/plain": [
              "<Figure size 640x480 with 1 Axes>"
            ]
          },
          "metadata": {},
          "output_type": "display_data"
        }
      ],
      "source": [
        "sns.barplot(x='coupon', y = 'Y', data=data)\n",
        "\n",
        "plt.xlabel('Customer Groups')\n",
        "plt.ylabel('Coupon Accept')\n",
        "plt.xticks(rotation=45)\n",
        "plt.show()"
      ]
    },
    {
      "cell_type": "markdown",
      "metadata": {
        "id": "Qw4lCyx2_qRI"
      },
      "source": [
        "6. Use a histogram to visualize the temperature column."
      ]
    },
    {
      "cell_type": "code",
      "execution_count": 458,
      "metadata": {
        "id": "Yg9Anv71_qRI"
      },
      "outputs": [
        {
          "data": {
            "image/png": "[encoded data removed]",
            "text/plain": [
              "<Figure size 640x480 with 1 Axes>"
            ]
          },
          "metadata": {},
          "output_type": "display_data"
        }
      ],
      "source": [
        "sns.histplot(x='temperature', y = 'coupon', bins = 10, data=data)\n",
        "plt.xticks(rotation=45)\n",
        "plt.show()\n",
        "\n",
        "#sns.histplot(x='temperature', y = 'Y', bins = 10, data=data)\n",
        "#plt.xticks(rotation=45)\n",
        "#plt.show()"
      ]
    },
    {
      "cell_type": "markdown",
      "metadata": {
        "id": "FupfgeJk_qRJ"
      },
      "source": [
        "**Investigating the Bar Coupons**\n",
        "\n",
        "Now, we will lead you through an exploration of just the bar related coupons.  \n",
        "\n",
        "1. Create a new `DataFrame` that contains just the bar coupons.\n"
      ]
    },
    {
      "cell_type": "code",
      "execution_count": 459,
      "metadata": {
        "id": "tMBlWuGq_qRJ"
      },
      "outputs": [
        {
          "name": "stdout",
          "output_type": "stream",
          "text": [
            "           destination  passanger weather  temperature  time coupon  \\\n",
            "9      No Urgent Place     Kid(s)   Sunny           80  10AM    Bar   \n",
            "13                Home      Alone   Sunny           55   6PM    Bar   \n",
            "17                Work      Alone   Sunny           55   7AM    Bar   \n",
            "24     No Urgent Place  Friend(s)   Sunny           80  10AM    Bar   \n",
            "35                Home      Alone   Sunny           55   6PM    Bar   \n",
            "...                ...        ...     ...          ...   ...    ...   \n",
            "12663  No Urgent Place  Friend(s)   Sunny           80  10PM    Bar   \n",
            "12664  No Urgent Place  Friend(s)   Sunny           55  10PM    Bar   \n",
            "12667  No Urgent Place      Alone   Rainy           55  10AM    Bar   \n",
            "12670  No Urgent Place    Partner   Rainy           55   6PM    Bar   \n",
            "12682             Work      Alone   Snowy           30   7AM    Bar   \n",
            "\n",
            "      expiration  gender age      maritalStatus  ...  CoffeeHouse CarryAway  \\\n",
            "9             1d  Female  21  Unmarried partner  ...        never   Unknown   \n",
            "13            1d  Female  21  Unmarried partner  ...        never   Unknown   \n",
            "17            1d  Female  21  Unmarried partner  ...        never   Unknown   \n",
            "24            1d    Male  21             Single  ...        less1       4~8   \n",
            "35            1d    Male  21             Single  ...        less1       4~8   \n",
            "...          ...     ...  ..                ...  ...          ...       ...   \n",
            "12663         1d    Male  26             Single  ...        never       1~3   \n",
            "12664         2h    Male  26             Single  ...        never       1~3   \n",
            "12667         1d    Male  26             Single  ...        never       1~3   \n",
            "12670         2h    Male  26             Single  ...        never       1~3   \n",
            "12682         1d    Male  26             Single  ...        never       1~3   \n",
            "\n",
            "      RestaurantLessThan20 Restaurant20To50 toCoupon_GEQ5min  \\\n",
            "9                      4~8              1~3                1   \n",
            "13                     4~8              1~3                1   \n",
            "17                     4~8              1~3                1   \n",
            "24                     4~8            less1                1   \n",
            "35                     4~8            less1                1   \n",
            "...                    ...              ...              ...   \n",
            "12663                  4~8              1~3                1   \n",
            "12664                  4~8              1~3                1   \n",
            "12667                  4~8              1~3                1   \n",
            "12670                  4~8              1~3                1   \n",
            "12682                  4~8              1~3                1   \n",
            "\n",
            "      toCoupon_GEQ15min toCoupon_GEQ25min direction_same direction_opp  Y  \n",
            "9                     1                 0              0             1  0  \n",
            "13                    0                 0              1             0  1  \n",
            "17                    1                 1              0             1  0  \n",
            "24                    0                 0              0             1  1  \n",
            "35                    0                 0              1             0  1  \n",
            "...                 ...               ...            ...           ... ..  \n",
            "12663                 1                 0              0             1  0  \n",
            "12664                 1                 0              0             1  0  \n",
            "12667                 1                 0              0             1  0  \n",
            "12670                 1                 0              0             1  0  \n",
            "12682                 1                 1              0             1  0  \n",
            "\n",
            "[2017 rows x 26 columns]\n"
          ]
        }
      ],
      "source": [
        "\n",
        "barcoupon = data[data['coupon'] == 'Bar']\n",
        "print(barcoupon)\n"
      ]
    },
    {
      "cell_type": "markdown",
      "metadata": {
        "id": "8ue6uCqf_qRJ"
      },
      "source": [
        "2. What proportion of bar coupons were accepted?\n"
      ]
    },
    {
      "cell_type": "code",
      "execution_count": 460,
      "metadata": {
        "id": "hSdte8Mi_qRK"
      },
      "outputs": [
        {
          "name": "stdout",
          "output_type": "stream",
          "text": [
            "          Y\n",
            "coupon     \n",
            "Bar     827            Y\n",
            "coupon      \n",
            "Bar     2017\n",
            "               Y\n",
            "coupon          \n",
            "Bar     0.410015\n"
          ]
        }
      ],
      "source": [
        "\n",
        "\n",
        "# Group by the 'coupon' column on Bar group customers who accepted the coupon and perform aggregation\n",
        "group_barcoupon_accept = barcoupon.groupby('coupon').agg({'Y': 'sum'})\n",
        "\n",
        "# Count all customers that received the bar coupon\n",
        "Total_barcoupon = barcoupon.groupby('coupon').agg({'Y': 'count'})\n",
        "\n",
        "# Display the result\n",
        "print(group_barcoupon_accept, Total_barcoupon)\n",
        "\n",
        "Bar_coupon_accept_proportion = group_barcoupon_accept/ Total_barcoupon\n",
        "print(Bar_coupon_accept_proportion)\n"
      ]
    },
    {
      "cell_type": "markdown",
      "metadata": {
        "id": "85nA_iEi_qRK"
      },
      "source": [
        "3. Compare the acceptance rate between those who went to a bar 3 or fewer times a month to those who went more.\n"
      ]
    },
    {
      "cell_type": "code",
      "execution_count": 461,
      "metadata": {
        "id": "LBOrN-XM_qRK"
      },
      "outputs": [
        {
          "name": "stdout",
          "output_type": "stream",
          "text": [
            "Customers who went to bar more than 3 times had a higher coupon acceptance rate of  76.88 %\n"
          ]
        }
      ],
      "source": [
        "# Filter customers who went to bar 3 or fewer times a month \n",
        "bar_3_eq_less = barcoupon[barcoupon['Bar'].isin(['1~3' , 'less1'])]\n",
        "\n",
        "#Calculate Acceptance rate of customers who went to bar 3 or fewer times a month \n",
        "acceptance_rt_3_eq_less = bar_3_eq_less['Y'].mean() * 100\n",
        "\n",
        "# Filter customers who went to bar more than 3 times a month \n",
        "bar_3_more = barcoupon[barcoupon['Bar'].isin(['4~8' , 'gt8'])]\n",
        "\n",
        "#Calculate Acceptance rate of customers who went to bar more than 3 times a month \n",
        "acceptance_rt_3_more = bar_3_more['Y'].mean() * 100\n",
        "\n",
        "#compare acceptance rate of customers who went 3 or fewer times to bar with those who went more \n",
        "if acceptance_rt_3_eq_less >= acceptance_rt_3_more: \n",
        "    print(\"Customers who went to bar 3 or fewer times had a higher coupon acceptance rate of \", round(acceptance_rt_3_eq_less, 2 ) , '%')\n",
        "else:\n",
        "    print(\"Customers who went to bar more than 3 times had a higher coupon acceptance rate of \", round(acceptance_rt_3_more, 2) , '%' )\n",
        "     \n",
        "\n"
      ]
    },
    {
      "cell_type": "markdown",
      "metadata": {
        "id": "RBgcQwH4_qRK"
      },
      "source": [
        "4. Compare the acceptance rate between drivers who go to a bar more than once a month and are over the age of 25 to the all others.  Is there a difference?\n"
      ]
    },
    {
      "cell_type": "code",
      "execution_count": 462,
      "metadata": {
        "id": "bf28bbeX_qRK"
      },
      "outputs": [
        {
          "name": "stdout",
          "output_type": "stream",
          "text": [
            "Customers who went to bar more than once a month and are over age of 25 had a higher coupon acceptance rate of  69.52 %\n"
          ]
        }
      ],
      "source": [
        "# Filter customers who went to bar more than once a month and over age 25\n",
        "bar_age_gt25_gt1m = barcoupon[~ barcoupon['age'].isin([ '21', 'below21']) & (barcoupon['Bar'].isin( ['1~3' , '4~8', 'gt8'])) ]\n",
        "\n",
        "# Calculate acceptance rate of customers who went to bar more than once a month and over age 25\n",
        "bar_age_gt25__gt1m_rt = bar_age_gt25_gt1m['Y'].mean() * 100\n",
        "\n",
        "# Filter customers of all others than those who went to bar more than once a month and over age 25\n",
        "bar_all_others = barcoupon[ barcoupon['age'].isin([ '21', 'below21']) | (~ barcoupon['Bar'].isin( ['1~3' , '4~8', 'gt8']))]\n",
        "\n",
        "#Calculate acceptance rate of customers of all others than those who went to bar more than once a month and over age 25\n",
        "bar_all_others_rt = bar_all_others['Y'].mean() * 100 \n",
        "\n",
        "#Compare acceptance rate of both groups\n",
        "if bar_age_gt25__gt1m_rt >= bar_all_others_rt: \n",
        "    print(\"Customers who went to bar more than once a month and are over age of 25 had a higher coupon acceptance rate of \", round( bar_age_gt25__gt1m_rt, 2) , '%' )\n",
        "else:\n",
        "    print(\"Customers who didn't go to bar went to bar more than once a month or are over age of 25 had a higher coupon acceptance rate of  \", round (bar_all_others_rt, 2) , '%' )\n",
        "     \n",
        "\n"
      ]
    },
    {
      "cell_type": "markdown",
      "metadata": {
        "id": "S4RKT4PJ_qRK"
      },
      "source": [
        "5. Use the same process to compare the acceptance rate between drivers who go to bars more than once a month and had passengers that were not a kid and had occupations other than farming, fishing, or forestry.\n"
      ]
    },
    {
      "cell_type": "code",
      "execution_count": null,
      "metadata": {
        "id": "sENaI2Tg_qRK"
      },
      "outputs": [
        {
          "name": "stdout",
          "output_type": "stream",
          "text": [
            "29.6043656207367\n",
            "Customers who went to bar more than once a month and had passengers that were not a kid and had occupations other than farming, fishing , or forestry had a higher acceptance rate of  71.32 %\n"
          ]
        }
      ],
      "source": [
        "# Filter customers who went to bar more than once a month and had passengers that were not a kid and had occupations other than farming, fishing or forestry\n",
        "bar_age_gt1m_ntkd_fff = barcoupon[(~ barcoupon['occupation'].isin(['Farming Fishing & Forestry'])) & (barcoupon['Bar'].isin( ['1~3' , '4~8', 'gt8'])) & (~ barcoupon['passanger'].isin(['Kid(s)'])) ]\n",
        "\n",
        "# Calculate acceptance rate of customers who went to bar more than once a month and had passengers that were not a kid and had occupations other than farming, fishing or forestry\n",
        "bar_age_gt1m_ntkd_fff_rt = bar_age_gt1m_ntkd_fff['Y'].mean() * 100\n",
        "\n",
        "# Filter all other customers other than group of customers customers who went to bar more than once a month and had passengers that were not a kid and had occupations other than farming, fishing or forestry\n",
        "bar_age_gt1m_all_others = barcoupon[ barcoupon['occupation'].isin(['Farming Fishing & Forestry']) | (~ barcoupon['Bar'].isin( ['1~3' , '4~8', 'gt8'])) | barcoupon['passanger'].isin(['Kid(s)']) ]\n",
        "\n",
        "# Calculate acceptance rate of all other customers other than group of customers customers who went to bar more than once a month and had passengers that were not a kid and had occupations other than farming, fishing or forestry\n",
        "bar_age_gt1m_all_others_rt = bar_age_gt1m_all_others['Y'].mean() * 100\n",
        "print(bar_age_gt1m_all_others_rt)\n",
        "\n",
        "# Compare acceptance rates of both groups\n",
        "if bar_age_gt1m_ntkd_fff_rt >= bar_age_gt1m_all_others_rt:\n",
        "    print(\"Customers who went to bar more than once a month and had passengers that were not a kid and had occupations other than farming, fishing , or forestry had a higher acceptance rate of \", round(bar_age_gt1m_ntkd_fff_rt , 2) , '%' )\n",
        "else:\n",
        "    print(\"Customers who didn't go to bar more than once a month or had passengers that were a kid or had occupations farming, fishing , or forestry had a higher acceptance rate of \", round( bar_age_gt1m_all_others_rt,2 ) , '%')\n"
      ]
    },
    {
      "cell_type": "markdown",
      "metadata": {
        "id": "n2LIUTil_qRK"
      },
      "source": [
        "6. Compare the acceptance rates between those drivers who:\n",
        "\n",
        "- go to bars more than once a month, had passengers that were not a kid, and were not widowed *OR*\n",
        "- go to bars more than once a month and are under the age of 30 *OR*\n",
        "- go to cheap restaurants more than 4 times a month and income is less than 50K.\n",
        "\n"
      ]
    },
    {
      "cell_type": "code",
      "execution_count": 467,
      "metadata": {
        "id": "aK_wEzx7_qRK"
      },
      "outputs": [
        {
          "name": "stdout",
          "output_type": "stream",
          "text": [
            "   Group                                          GroupDesc  Acceptance_rt_grp\n",
            "0      3  Visits to cheap restaurants > 4 month and inco...              45.35\n",
            "1      1   Visits > 1 month and had no kid passangers an...              71.32\n",
            "2      2                      Visits > 1 month and age < 30              72.17\n",
            "Customer group with  Visits > 1 month and age < 30 have highest acceptance rate of  72.17 %\n",
            "Customer group with  Visits to cheap restaurants > 4 month and income < 50K have lowest acceptance rate of  45.35 %\n"
          ]
        }
      ],
      "source": [
        "acceptance_rt_df = pd.DataFrame({\n",
        "                                  'Group': [1,2,3],\n",
        "                                   'GroupDesc' : [' Visits > 1 month and had no kid passangers and were not widowed', 'Visits > 1 month and age < 30', 'Visits to cheap restaurants > 4 month and income < 50K' ],\n",
        "                                   'Acceptance_rt_grp': [0.00 , 0.00, 0.00]\n",
        "                                                  })\n",
        "\n",
        "\n",
        "\n",
        "barcoupon_grp1 = barcoupon[ (barcoupon['Bar'].isin( ['1~3' , '4~8', 'gt8'])) & (~ barcoupon['passanger'].isin(['Kid(s)'])) & (~ barcoupon['maritalStatus'].isin(['Widowed']))]\n",
        "barcoupon_grp2 = barcoupon[ (barcoupon['Bar'].isin( ['1~3' , '4~8', 'gt8'])) & (  barcoupon['age'].isin([ '26', '21', 'below21'])) ]\n",
        "barcoupon_grp3 = barcoupon[ (barcoupon['RestaurantLessThan20'].isin( ['4~8', 'gt8'])) & (  barcoupon['income'].isin([ 'Less than $12500',  '$12500 - $24999', '$25000 - $37499', '$37500 - $49999'])) ]\n",
        "\n",
        "acceptance_rt_df.loc[0, 'Acceptance_rt_grp'] = round( (barcoupon_grp1['Y'].mean() * 100), 2)\n",
        "acceptance_rt_df.loc[1, 'Acceptance_rt_grp'] = round( (barcoupon_grp2['Y'].mean() * 100), 2)\n",
        "acceptance_rt_df.loc[2, 'Acceptance_rt_grp'] = round( (barcoupon_grp3['Y'].mean() * 100), 2)\n",
        "\n",
        "\n",
        "# Sort Acceptance rates of all 3 groups\n",
        "sorted_acceptance_rt = acceptance_rt_df.sort_values(by='Acceptance_rt_grp').reset_index(drop=True)\n",
        "print(sorted_acceptance_rt)\n",
        "# Print Highest Acceptance rate and group description\n",
        "print('Customer group with ', sorted_acceptance_rt.iloc[-1]['GroupDesc'], 'have highest acceptance rate of ', sorted_acceptance_rt.iloc[-1]['Acceptance_rt_grp'] , '%')\n",
        "\n",
        "# Print Lowest Acceptance rate and group description\n",
        "print('Customer group with ', sorted_acceptance_rt.iloc[0]['GroupDesc'], 'have lowest acceptance rate of ', sorted_acceptance_rt.iloc[0]['Acceptance_rt_grp'] , '%')"
      ]
    },
    {
      "cell_type": "markdown",
      "metadata": {
        "id": "v3fL3QkO_qRK"
      },
      "source": [
        "7.  Based on these observations, what do you hypothesize about drivers who accepted the bar coupons?"
      ]
    },
    {
      "cell_type": "markdown",
      "metadata": {
        "id": "Y48naDFh_qRL"
      },
      "source": [
        "\n",
        "1. Age plays an important role in accepting Bar coupons for customers who visit Bar atleast once a month. It was seen through above observations that Customers that are over age 25 will accept the Bar coupon 70% of the time.\n",
        "2. Type of Passangers also plays a role in Bar coupon acceptance. If the driver has kid passengers in car , they have less Bar coupon acceptance rate of around 30% .\n",
        "3. Occupation influences Bar visits. Customers with occupation like farming, fishing, forestry occupations don't accept Bar coupons that often and have less acceptance rate, around 30%. \n",
        "4. Income influences Bar coupon acceptance. Customers that have income < 50k & can visit cheap restaurants, have less than 50% chances of accepting Bar coupon."
      ]
    },
    {
      "cell_type": "markdown",
      "metadata": {
        "id": "r4Hu1zOb_qRL"
      },
      "source": [
        "### Independent Investigation\n",
        "\n",
        "Using the bar coupon example as motivation, you are to explore one of the other coupon groups and try to determine the characteristics of passengers who accept the coupons.  "
      ]
    },
    {
      "cell_type": "code",
      "execution_count": 256,
      "metadata": {
        "id": "0c71cQhu_qRL"
      },
      "outputs": [
        {
          "name": "stdout",
          "output_type": "stream",
          "text": [
            "                         Y\n",
            "RestaurantLessThan20      \n",
            "1~3                   3010\n",
            "4~8                   2093\n",
            "gt8                    781\n",
            "less1                 1119                          Y\n",
            "RestaurantLessThan20      \n",
            "1~3                   5376\n",
            "4~8                   3580\n",
            "Unknown                130\n",
            "gt8                   1285\n",
            "less1                 2093\n",
            "never                  220\n",
            "                             Y\n",
            "RestaurantLessThan20          \n",
            "1~3                   0.559896\n",
            "4~8                   0.584637\n",
            "Unknown                    NaN\n",
            "gt8                   0.607782\n",
            "less1                 0.534639\n",
            "never                      NaN\n",
            "                             Y\n",
            "RestaurantLessThan20          \n",
            "1~3                   0.559896\n",
            "4~8                   0.584637\n",
            "gt8                   0.607782\n",
            "less1                 0.534639\n"
          ]
        },
        {
          "data": {
            "image/png": "[encoded data removed]",
            "text/plain": [
              "<Figure size 640x480 with 1 Axes>"
            ]
          },
          "metadata": {},
          "output_type": "display_data"
        }
      ],
      "source": [
        "# Exploring Customer group that eats at Restaurants with avergae expense less than $20/ person \n",
        "# Calculate propotion of customers that accept coupon if they eat at a restaurant wiith average expense less than $20/person\n",
        "Coupon_accept_data = data[data['Y'] == 1]\n",
        "list_of_custgoingtorest = ['1~3' , '4~8' , 'gt8', 'less1']\n",
        "\n",
        "#Coupon_accept_data['RestaurantLessThan20'] = Coupon_accept_data['RestaurantLessThan20'].astype(str)\n",
        "Coupon_accept_data = Coupon_accept_data[Coupon_accept_data['RestaurantLessThan20'].isin(list_of_custgoingtorest)]\n",
        "# Group by the 'RestaurantLessThan20' column on customers who accepted the coupon and perform aggregation\n",
        "group_coupon_accept_data = Coupon_accept_data.groupby('RestaurantLessThan20').agg({'Y': 'sum'})\n",
        "\n",
        "#Group by the 'RestaurantLessThan20' column on all customers and perform aggregation\n",
        "Total_population = data.groupby('RestaurantLessThan20').agg({'Y': 'count'})\n",
        "\n",
        "# Display the result\n",
        "print(group_coupon_accept_data, Total_population)\n",
        "\n",
        "RestaurantLessThan20_Proportion = group_coupon_accept_data/ Total_population\n",
        "print(RestaurantLessThan20_Proportion)\n",
        "\n",
        "RestaurantLessThan20_Proportion = RestaurantLessThan20_Proportion.drop( [ 'Unknown', 'never'])\n",
        "print(RestaurantLessThan20_Proportion)\n",
        "sns.barplot(x='RestaurantLessThan20', y = 'Y', data=RestaurantLessThan20_Proportion)\n",
        "plt.xlabel('Number of times he/she eats at a restaurant with average expense less than $20/person')\n",
        "plt.ylabel('Total population coupon accept %')\n",
        "plt.xticks(rotation=45)\n",
        "plt.show()"
      ]
    },
    {
      "cell_type": "code",
      "execution_count": null,
      "metadata": {
        "id": "QEsBkvIN_qRL"
      },
      "outputs": [
        {
          "name": "stdout",
          "output_type": "stream",
          "text": [
            "                    Y\n",
            "destination          \n",
            "Home             1600\n",
            "No Urgent Place  3852\n",
            "Work             1551\n"
          ]
        }
      ],
      "source": [
        "# Further subgroup customers that eat at restaurants with expense < $20 and destination to determine impact of destination\n",
        "group_coupon_accept_data_dest = Coupon_accept_data.groupby('destination').agg({'Y': 'sum'})\n",
        "print(group_coupon_accept_data_dest)"
      ]
    },
    {
      "cell_type": "code",
      "execution_count": null,
      "metadata": {
        "id": "fTC2WGE3_qRL"
      },
      "outputs": [
        {
          "data": {
            "image/png": "[encoded data removed]",
            "text/plain": [
              "<Figure size 640x480 with 1 Axes>"
            ]
          },
          "metadata": {},
          "output_type": "display_data"
        }
      ],
      "source": [
        "# plot barplot of customers accepting coupon for restaurants with less than $20 expense and going to different destinations\n",
        "rl20_dest_acceptcoupon = rl20.groupby('destination').agg({'Y': 'sum'}).reset_index()\n",
        "rl20_dest_acceptcoupon\n",
        "sns.barplot(x='destination', y ='Y', data= rl20_dest_acceptcoupon)\n",
        "plt.xlabel('Destination')\n",
        "plt.ylabel('Customers eating at Restaurants < $20 accept coupon')\n",
        "plt.xticks(rotation=45)\n",
        "plt.show()"
      ]
    }
  ],
  "metadata": {
    "colab": {
      "provenance": []
    },
    "kernelspec": {
      "display_name": "Python 3",
      "language": "python",
      "name": "python3"
    },
    "language_info": {
      "codemirror_mode": {
        "name": "ipython",
        "version": 3
      },
      "file_extension": ".py",
      "mimetype": "text/x-python",
      "name": "python",
      "nbconvert_exporter": "python",
      "pygments_lexer": "ipython3",
      "version": "3.13.2"
    }
  },
  "nbformat": 4,
  "nbformat_minor": 0
}
